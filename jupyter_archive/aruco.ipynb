{
 "cells": [
  {
   "cell_type": "code",
   "execution_count": null,
   "metadata": {},
   "outputs": [],
   "source": [
    "import cv2\n",
    "from IPython.display import display, Image"
   ]
  },
  {
   "cell_type": "code",
   "execution_count": null,
   "metadata": {},
   "outputs": [],
   "source": [
    "INPUT_VIDEO = \"test52.mp4\"\n",
    "\n",
    "def show_image(image, format=\".jpg\"):\n",
    "    image = cv2.imencode(format, image)[1]\n",
    "    display(Image(image))\n",
    "\n",
    "video = cv2.VideoCapture(INPUT_VIDEO)\n",
    "success, frame = video.read()\n",
    "\n",
    "# ArUco\n",
    "aruco = cv2.aruco\n",
    "dictionary = aruco.getPredefinedDictionary(aruco.DICT_4X4_50)\n",
    "\n",
    "corners, ids, rejectedImgPoints = aruco.detectMarkers(frame, dictionary)\n",
    "print(corners)\n",
    "print(ids)\n",
    "aruco.drawDetectedMarkers(frame, corners, ids)\n",
    "\n",
    "show_image(frame)\n",
    "video.release()"
   ]
  }
 ],
 "metadata": {
  "interpreter": {
   "hash": "6b7a7ddf267eb7aa2b86823e06fe30cc9cb1576a9bbe2d01db5e5f3c9cc568b4"
  },
  "kernelspec": {
   "display_name": "Python 3.9.12 ('bos-rjgDhog7')",
   "language": "python",
   "name": "python3"
  },
  "language_info": {
   "codemirror_mode": {
    "name": "ipython",
    "version": 3
   },
   "file_extension": ".py",
   "mimetype": "text/x-python",
   "name": "python",
   "nbconvert_exporter": "python",
   "pygments_lexer": "ipython3",
   "version": "3.9.13"
  },
  "orig_nbformat": 4
 },
 "nbformat": 4,
 "nbformat_minor": 2
}
