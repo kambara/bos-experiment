{
 "cells": [
  {
   "cell_type": "code",
   "execution_count": null,
   "metadata": {},
   "outputs": [],
   "source": [
    "import cv2\n",
    "from openpiv import piv, pyprocess, validation, tools\n",
    "import numpy as np"
   ]
  },
  {
   "cell_type": "code",
   "execution_count": null,
   "metadata": {},
   "outputs": [],
   "source": [
    "cap = cv2.VideoCapture(\"test19-original.mp4\")\n",
    "success, image1 = cap.read()\n",
    "count = 0\n",
    "U = []\n",
    "V = []\n",
    "\n",
    "windowsize = 24\n",
    "searchsize = 64\n",
    "overlap = 12\n",
    "dt = 0.03\n",
    "\n",
    "while success and count < 30*20:\n",
    "    success, image2 = cap.read()\n",
    "    if success:\n",
    "        print(count)\n",
    "        x, y, u, v = piv.simple_piv(\n",
    "            image1.sum(axis=2), image2.sum(axis=2), plot=True\n",
    "        )\n",
    "        # image1 = image2.copy()\n",
    "        count += 1\n",
    "        U.append(u)\n",
    "        V.append(v)\n"
   ]
  },
  {
   "cell_type": "code",
   "execution_count": null,
   "metadata": {},
   "outputs": [],
   "source": [
    "cap = cv2.VideoCapture(\"test19-original.mp4\")\n",
    "success, image1 = cap.read()\n",
    "count = 0\n",
    "U = []\n",
    "V = []\n",
    "\n",
    "windowsize = 24\n",
    "overlap = 12\n",
    "searchsize = 64\n",
    "dt = 0.03\n",
    "\n",
    "while success and count < 30*20:\n",
    "    success, image2 = cap.read()\n",
    "    if success:\n",
    "        print(count)\n",
    "        # x, y, u, v = piv.simple_piv(\n",
    "        #     image1.sum(axis=2), image2.sum(axis=2), plot=True\n",
    "        # )\n",
    "        u, v, sig2noise = pyprocess.extended_search_area_piv(\n",
    "            image1.astype(np.int32),\n",
    "            image2.astype(np.int32),\n",
    "            window_size=windowsize,\n",
    "            overlap=overlap,\n",
    "            dt=dt,\n",
    "            search_area_size=searchsize,\n",
    "            sig2noise_method='peak2peak'\n",
    "        )\n",
    "        x, y = pyprocess.get_coordinates(\n",
    "            image_size=image1.shape,\n",
    "            search_area_size=searchsize,\n",
    "            overlap=overlap\n",
    "        )\n",
    "        u, v, mask = validation.sig2noise_val(u, v, sig2noise, threshold=1.05)\n",
    "\n",
    "        image1 = image2.copy()\n",
    "        count += 1\n",
    "        U.append(u)\n",
    "        V.append(v)"
   ]
  }
 ],
 "metadata": {
  "interpreter": {
   "hash": "44b1c368474a77205905d598c753cf29f6db57ff077458a81866d748c2163921"
  },
  "kernelspec": {
   "display_name": "Python 3.9.12 ('.venv': venv)",
   "language": "python",
   "name": "python3"
  },
  "language_info": {
   "codemirror_mode": {
    "name": "ipython",
    "version": 3
   },
   "file_extension": ".py",
   "mimetype": "text/x-python",
   "name": "python",
   "nbconvert_exporter": "python",
   "pygments_lexer": "ipython3",
   "version": "3.9.12"
  },
  "orig_nbformat": 4
 },
 "nbformat": 4,
 "nbformat_minor": 2
}
