{
 "cells": [
  {
   "cell_type": "code",
   "execution_count": null,
   "metadata": {},
   "outputs": [],
   "source": [
    "import cv2\n",
    "from IPython.display import display, Image"
   ]
  },
  {
   "cell_type": "code",
   "execution_count": null,
   "metadata": {},
   "outputs": [],
   "source": [
    "def show_image(image, format=\".jpg\"):\n",
    "    image = cv2.imencode(format, image)[1]\n",
    "    display(Image(image))"
   ]
  },
  {
   "cell_type": "code",
   "execution_count": null,
   "metadata": {},
   "outputs": [],
   "source": [
    "# http://labs.eecs.tottori-u.ac.jp/sd/Member/oyamada/OpenCV/html/py_tutorials/py_imgproc/py_canny/py_canny.html\n",
    "\n",
    "INPUT_VIDEO = \"test48.mp4\"\n",
    "\n",
    "video = cv2.VideoCapture(INPUT_VIDEO)\n",
    "success, frame = video.read()\n",
    "\n",
    "edge = cv2.Canny(frame, 100, 500)\n",
    "\n",
    "show_image(edge)"
   ]
  }
 ],
 "metadata": {
  "kernelspec": {
   "display_name": "Python 3.9.13 ('bos-mac-AXpPODod')",
   "language": "python",
   "name": "python3"
  },
  "language_info": {
   "codemirror_mode": {
    "name": "ipython",
    "version": 3
   },
   "file_extension": ".py",
   "mimetype": "text/x-python",
   "name": "python",
   "nbconvert_exporter": "python",
   "pygments_lexer": "ipython3",
   "version": "3.9.13"
  },
  "orig_nbformat": 4,
  "vscode": {
   "interpreter": {
    "hash": "07b0d80122cc2513e3c3744414f05d06314810cdc60152d3c119e0e6c67c7d56"
   }
  }
 },
 "nbformat": 4,
 "nbformat_minor": 2
}
